{
 "cells": [
  {
   "cell_type": "markdown",
   "metadata": {},
   "source": [
    "# 2.3 Introducción a python\n",
    "\n",
    "Por: [Ivan Torroledo](https://github.com/torroledo) \n",
    "\n",
    "### Este notebook hace parte del curso [**Introducción a la ciencia de datos**](https://github.com)\n",
    "\n",
    "<p float=\"left\">\n",
    "  <img src=\"../99-imagenes/mck-logo.png\" alt=\"drawing\" width=\"300\"/>\n",
    "  <img src=\"../99-imagenes/python-logo.png\" alt=\"drawing\" width=\"300\"/>\n",
    "</p>\n",
    "\n",
    "### Objetivos \n",
    "\n",
    "* Entender las estructuras fundamentales de Python y su uso para el análisis de datos  \n",
    "* Entender la sintaxis y lenguaje básico de instrucciones en Python \n",
    "* Entender el uso librerías y módulos en Python, partiendo de dos librerías muy usadas para el análisis de datos y numérico: [numpy](https://numpy.org/) y [scipy](https://www.scipy.org/)\n",
    "\n",
    "### Introducción \n",
    "\n",
    "Como vimos en la sección teórica, python es un lenguaje de programación versátil, muy potente pero sin reducir su simplicidad y fácil comprensión. EL creador de python nos deja al respecto su opinión "
   ]
  },
  {
   "cell_type": "code",
   "execution_count": 1,
   "metadata": {},
   "outputs": [
    {
     "name": "stdout",
     "output_type": "stream",
     "text": [
      "The Zen of Python, by Tim Peters\n",
      "\n",
      "Beautiful is better than ugly.\n",
      "Explicit is better than implicit.\n",
      "Simple is better than complex.\n",
      "Complex is better than complicated.\n",
      "Flat is better than nested.\n",
      "Sparse is better than dense.\n",
      "Readability counts.\n",
      "Special cases aren't special enough to break the rules.\n",
      "Although practicality beats purity.\n",
      "Errors should never pass silently.\n",
      "Unless explicitly silenced.\n",
      "In the face of ambiguity, refuse the temptation to guess.\n",
      "There should be one-- and preferably only one --obvious way to do it.\n",
      "Although that way may not be obvious at first unless you're Dutch.\n",
      "Now is better than never.\n",
      "Although never is often better than *right* now.\n",
      "If the implementation is hard to explain, it's a bad idea.\n",
      "If the implementation is easy to explain, it may be a good idea.\n",
      "Namespaces are one honking great idea -- let's do more of those!\n"
     ]
    }
   ],
   "source": [
    "import this"
   ]
  },
  {
   "cell_type": "markdown",
   "metadata": {},
   "source": [
    "Veamos en detalle el porqué de estas palabras"
   ]
  },
  {
   "cell_type": "markdown",
   "metadata": {},
   "source": [
    "## Estructuras básicas en python\n",
    "\n",
    "Las estructuras de Python son variadas y versatiles. En general tenemos acceso a la mayor cantidad de clases que podemos encontrar en diversos lenguajes de programación. Por lo cual si tenemos experiencia en otro lenguaje, pero nuestra primera vez en Python, no tendremos problema en la transición.\n",
    "\n",
    "Al ser un lenguaje de programación con multiples propositos podemos encontrar todo tipo de estructuras, desde las más simples como valores enteros hasta las más complejas como colecciones.\n",
    "\n",
    "\n",
    "### Números - *int, float, complex*\n",
    "\n",
    "Cuando hacemos referencia al concepto de numero en matemáticas en realiad nos referimos a varios tipos de estructuras: \n",
    "\n",
    "* Enteros\n",
    "* Naturales\n",
    "* Racionales\n",
    "* Irracionales\n",
    "* Reales \n",
    "* Complejos\n",
    "\n",
    "Desde el punto de vista de programación y computación encontramos que al igual que en matemáticas, para representar valores numéricos necesitamos de múltiples estructuras. Afortunadamente, resulta que podemos mapear las 6 categorías anteriores a tan solo 3 clases cuando trabajamos con Python:\n",
    "\n",
    "\n",
    "* Enteros\n",
    "* Flotantes (decimales)\n",
    "* Complejos  \n",
    "\n",
    "Veamos en detalle. \n",
    "\n",
    "Para validar el tipo de variable de un valor en Python basta con usar la instrucción `type()`"
   ]
  },
  {
   "cell_type": "code",
   "execution_count": 2,
   "metadata": {},
   "outputs": [
    {
     "data": {
      "text/plain": [
       "int"
      ]
     },
     "execution_count": 2,
     "metadata": {},
     "output_type": "execute_result"
    }
   ],
   "source": [
    "type(1)"
   ]
  },
  {
   "cell_type": "markdown",
   "metadata": {},
   "source": [
    "Los valores ***enteros*** se definen al igual que en otro lenguajes con el nombre `int`. Definir esta clase es intuitivo porque hace referencia a los mismos numeros enteros que usamos en matemáticas. Cuando se trata de operaciones matemáticas, éstos pueden ser operados en forma usual, por ejemplo:"
   ]
  },
  {
   "cell_type": "code",
   "execution_count": 3,
   "metadata": {},
   "outputs": [
    {
     "data": {
      "text/plain": [
       "3"
      ]
     },
     "execution_count": 3,
     "metadata": {},
     "output_type": "execute_result"
    }
   ],
   "source": [
    "# Suma\n",
    "1 + 2 "
   ]
  },
  {
   "cell_type": "code",
   "execution_count": 4,
   "metadata": {},
   "outputs": [
    {
     "data": {
      "text/plain": [
       "6"
      ]
     },
     "execution_count": 4,
     "metadata": {},
     "output_type": "execute_result"
    }
   ],
   "source": [
    "# Multiplicación \n",
    "2 * 3 "
   ]
  },
  {
   "cell_type": "markdown",
   "metadata": {},
   "source": [
    "Cuando hablamos en Python con referencia a los ***flotantes (decimales)***, matemáticamente hablamos de los números racionales e irracionales (naturalmente de forma aproximada).   \n",
    "\n",
    "Si operamos estos valores **flotantes** entre ellos o con valores **enteros** , Python homogeniza automáticamente el tipo de variable para ser operados conjuntamente:"
   ]
  },
  {
   "cell_type": "code",
   "execution_count": 5,
   "metadata": {
    "scrolled": true
   },
   "outputs": [
    {
     "data": {
      "text/plain": [
       "float"
      ]
     },
     "execution_count": 5,
     "metadata": {},
     "output_type": "execute_result"
    }
   ],
   "source": [
    "type(1.2 + 2.8 + 1)"
   ]
  },
  {
   "cell_type": "markdown",
   "metadata": {},
   "source": [
    "Así, vemos que el tipo de dato que define un **flotante (decimal)** es la estructura `float`. \n",
    "\n",
    "Ahora, si queremos incluir mayor complejidad para expresar un número podemos usar los **complejos** con la instrucción `complex()`"
   ]
  },
  {
   "cell_type": "code",
   "execution_count": 6,
   "metadata": {
    "scrolled": true
   },
   "outputs": [
    {
     "data": {
      "text/plain": [
       "(1.2+2.2j)"
      ]
     },
     "execution_count": 6,
     "metadata": {},
     "output_type": "execute_result"
    }
   ],
   "source": [
    "complex(1.2, 2.2)"
   ]
  },
  {
   "cell_type": "code",
   "execution_count": 6,
   "metadata": {},
   "outputs": [
    {
     "data": {
      "text/plain": [
       "complex"
      ]
     },
     "execution_count": 6,
     "metadata": {},
     "output_type": "execute_result"
    }
   ],
   "source": [
    "type(complex(1.2, 0))"
   ]
  },
  {
   "cell_type": "markdown",
   "metadata": {},
   "source": [
    "Donde la clase que define el tipo de objeto es `complex`"
   ]
  },
  {
   "cell_type": "markdown",
   "metadata": {},
   "source": [
    "### Operadores matemáticos\n",
    "\n",
    "|  Operador matemático | Significado  |\n",
    "|---|---|\n",
    "| +  | suma  |\n",
    "| -  | resta  |\n",
    "| *  | multiplicacion  |\n",
    "| **  | exponente  |\n",
    "| %  | módulo  |\n",
    "| /  | división  |\n",
    "| //  | división entera |\n",
    "\n",
    "Como vemos, cualquiera de las operaciones matemáticas básicas se encuentran precargadas en Python. Sin embargo, el uso de funciones más complejas puede ser accedido con el uso de módulos o librerías, por ejemplo:"
   ]
  },
  {
   "cell_type": "code",
   "execution_count": 7,
   "metadata": {},
   "outputs": [
    {
     "data": {
      "text/plain": [
       "9.0"
      ]
     },
     "execution_count": 7,
     "metadata": {},
     "output_type": "execute_result"
    }
   ],
   "source": [
    "import math \n",
    "\n",
    "# Calculemos la raiz cuadrada\n",
    "math.sqrt(81)"
   ]
  },
  {
   "cell_type": "code",
   "execution_count": 9,
   "metadata": {},
   "outputs": [
    {
     "data": {
      "text/plain": [
       "1.5707963267948966"
      ]
     },
     "execution_count": 9,
     "metadata": {},
     "output_type": "execute_result"
    }
   ],
   "source": [
    "# Calculemos la inversa de la función sin()\n",
    "math.asin(1)"
   ]
  },
  {
   "cell_type": "code",
   "execution_count": 12,
   "metadata": {},
   "outputs": [
    {
     "data": {
      "text/plain": [
       "8.0"
      ]
     },
     "execution_count": 12,
     "metadata": {},
     "output_type": "execute_result"
    }
   ],
   "source": [
    "# Calculemos la tercera potencia\n",
    "math.pow(2,3)"
   ]
  },
  {
   "cell_type": "markdown",
   "metadata": {},
   "source": [
    "### Cadenas de texto - *Strings* \n",
    "\n",
    "Las cadenas de texto son estructuras que disponen un concepto sencillo pero que gracias a Python pueden ser manejadas de multiples formas que veremos mas adelante. Estas son definidas tomando cualquier texto y ser encapsulado entre comillas simples o dobles\n",
    "\n",
    "Primero, veamos cómo se llama el tipo de datos de acuerdo a python "
   ]
  },
  {
   "cell_type": "code",
   "execution_count": 8,
   "metadata": {},
   "outputs": [
    {
     "data": {
      "text/plain": [
       "str"
      ]
     },
     "execution_count": 8,
     "metadata": {},
     "output_type": "execute_result"
    }
   ],
   "source": [
    "type(\"Hola mundo\")"
   ]
  },
  {
   "cell_type": "markdown",
   "metadata": {},
   "source": [
    "Tambien podemos definir la cadena de texto usando comillas simples"
   ]
  },
  {
   "cell_type": "code",
   "execution_count": 13,
   "metadata": {},
   "outputs": [
    {
     "data": {
      "text/plain": [
       "'Hola mundo'"
      ]
     },
     "execution_count": 13,
     "metadata": {},
     "output_type": "execute_result"
    }
   ],
   "source": [
    "'Hola mundo'"
   ]
  },
  {
   "cell_type": "markdown",
   "metadata": {},
   "source": [
    "Si deseamos imprimir varias cadenas de texto al mismo tiempo, podemos usar la instrucción `print()` como:"
   ]
  },
  {
   "cell_type": "code",
   "execution_count": 15,
   "metadata": {},
   "outputs": [
    {
     "name": "stdout",
     "output_type": "stream",
     "text": [
      "Hola mundo\n",
      "Esta es la sesión: Introducción a python \n"
     ]
    }
   ],
   "source": [
    "print(\"Hola mundo\")\n",
    "print(\"Esta es la sesión: Introducción a python \")"
   ]
  },
  {
   "cell_type": "markdown",
   "metadata": {},
   "source": [
    "Si queremos concatenar cadenas de texto, Python nos deja utilizar de forma versátil el operador matemático de adición:"
   ]
  },
  {
   "cell_type": "code",
   "execution_count": 16,
   "metadata": {},
   "outputs": [
    {
     "name": "stdout",
     "output_type": "stream",
     "text": [
      "Hola mundo, este es mi primer programa\n"
     ]
    }
   ],
   "source": [
    "print(\"Hola mundo\" + ', este es mi primer programa')"
   ]
  },
  {
   "cell_type": "markdown",
   "metadata": {},
   "source": [
    "Sin embargo, debemos ser consciente que no podemos concatenar texto con números  "
   ]
  },
  {
   "cell_type": "code",
   "execution_count": 17,
   "metadata": {},
   "outputs": [
    {
     "ename": "TypeError",
     "evalue": "must be str, not int",
     "output_type": "error",
     "traceback": [
      "\u001b[0;31m---------------------------------------------------------------------------\u001b[0m",
      "\u001b[0;31mTypeError\u001b[0m                                 Traceback (most recent call last)",
      "\u001b[0;32m<ipython-input-17-782f9d8df2ee>\u001b[0m in \u001b[0;36m<module>\u001b[0;34m\u001b[0m\n\u001b[0;32m----> 1\u001b[0;31m \u001b[0;34m\"Mi número favorito es \"\u001b[0m \u001b[0;34m+\u001b[0m \u001b[0;36m7\u001b[0m\u001b[0;34m\u001b[0m\u001b[0;34m\u001b[0m\u001b[0m\n\u001b[0m",
      "\u001b[0;31mTypeError\u001b[0m: must be str, not int"
     ]
    }
   ],
   "source": [
    "\"Mi número favorito es \" + 7"
   ]
  },
  {
   "cell_type": "markdown",
   "metadata": {},
   "source": [
    "Por lo que debemos convertir el valor numérico a texto usando la instrucción `str()` "
   ]
  },
  {
   "cell_type": "code",
   "execution_count": 18,
   "metadata": {
    "scrolled": true
   },
   "outputs": [
    {
     "data": {
      "text/plain": [
       "'Mi número favorito es 7'"
      ]
     },
     "execution_count": 18,
     "metadata": {},
     "output_type": "execute_result"
    }
   ],
   "source": [
    "\"Mi número favorito es \" + str(7)"
   ]
  },
  {
   "cell_type": "markdown",
   "metadata": {},
   "source": [
    "### Booleanos \n",
    "\n",
    "Al igual que otros lenguajes, Python tiene reservada una estructura especial para el manejo de booleanos `True` y `False`. En Python, esta estrcutura es:"
   ]
  },
  {
   "cell_type": "code",
   "execution_count": 16,
   "metadata": {},
   "outputs": [
    {
     "data": {
      "text/plain": [
       "bool"
      ]
     },
     "execution_count": 16,
     "metadata": {},
     "output_type": "execute_result"
    }
   ],
   "source": [
    "type(True)"
   ]
  },
  {
   "cell_type": "markdown",
   "metadata": {},
   "source": [
    "Con la denifición de estos dos valores, mas las operaciones boleanas `and` `or` `not` tenemos suficiente para la evaluación de expresiones lógicas:"
   ]
  },
  {
   "cell_type": "code",
   "execution_count": 24,
   "metadata": {
    "scrolled": true
   },
   "outputs": [
    {
     "data": {
      "text/plain": [
       "False"
      ]
     },
     "execution_count": 24,
     "metadata": {},
     "output_type": "execute_result"
    }
   ],
   "source": [
    "False and True"
   ]
  },
  {
   "cell_type": "code",
   "execution_count": 25,
   "metadata": {
    "scrolled": true
   },
   "outputs": [
    {
     "data": {
      "text/plain": [
       "True"
      ]
     },
     "execution_count": 25,
     "metadata": {},
     "output_type": "execute_result"
    }
   ],
   "source": [
    "False or True"
   ]
  },
  {
   "cell_type": "code",
   "execution_count": 26,
   "metadata": {
    "scrolled": true
   },
   "outputs": [
    {
     "data": {
      "text/plain": [
       "True"
      ]
     },
     "execution_count": 26,
     "metadata": {},
     "output_type": "execute_result"
    }
   ],
   "source": [
    "True and True"
   ]
  },
  {
   "cell_type": "markdown",
   "metadata": {},
   "source": [
    "Esta clase tiene especial uso en el trabajo con **condicionales** y **controles de flujo**, que veremos más adelante. Sin embargo para esto primero debemos revisar los operadores logícos"
   ]
  },
  {
   "cell_type": "markdown",
   "metadata": {},
   "source": [
    "### Operadores lógicos\n",
    "\n",
    "Como operadores lógicos tenemos variadas alternativas para comparar valores númericos o cadenas de texto. A continuación una tabla con el resumen de estas operaciones:\n",
    "\n",
    "| Operador  | Símbolo de Python  |\n",
    "|---:|---:|\n",
    "| mayor que | >  |\n",
    "| mayor o igual que | >=  |\n",
    "| igual que  | ==  |\n",
    "| diferente que  | != |\n",
    "| menor que |  < |  \n",
    "| menor o igual que | <=  | \n",
    "\n",
    "\n",
    "Para comparaciones con valores numéricos, las operaciones son como las usuales:"
   ]
  },
  {
   "cell_type": "code",
   "execution_count": 27,
   "metadata": {},
   "outputs": [
    {
     "data": {
      "text/plain": [
       "True"
      ]
     },
     "execution_count": 27,
     "metadata": {},
     "output_type": "execute_result"
    }
   ],
   "source": [
    "2>1"
   ]
  },
  {
   "cell_type": "code",
   "execution_count": 28,
   "metadata": {
    "scrolled": true
   },
   "outputs": [
    {
     "data": {
      "text/plain": [
       "True"
      ]
     },
     "execution_count": 28,
     "metadata": {},
     "output_type": "execute_result"
    }
   ],
   "source": [
    "2>=2"
   ]
  },
  {
   "cell_type": "markdown",
   "metadata": {},
   "source": [
    "En el caso de Python dado el *uso dinámico de la memoria*, es posible realizar comparaciones entre valores que tienen diferente de datos mumérico:"
   ]
  },
  {
   "cell_type": "code",
   "execution_count": 29,
   "metadata": {},
   "outputs": [
    {
     "data": {
      "text/plain": [
       "True"
      ]
     },
     "execution_count": 29,
     "metadata": {},
     "output_type": "execute_result"
    }
   ],
   "source": [
    "50 == 2*25"
   ]
  },
  {
   "cell_type": "code",
   "execution_count": 30,
   "metadata": {},
   "outputs": [
    {
     "data": {
      "text/plain": [
       "True"
      ]
     },
     "execution_count": 30,
     "metadata": {},
     "output_type": "execute_result"
    }
   ],
   "source": [
    "1 != 0.0"
   ]
  },
  {
   "cell_type": "code",
   "execution_count": 31,
   "metadata": {},
   "outputs": [
    {
     "data": {
      "text/plain": [
       "True"
      ]
     },
     "execution_count": 31,
     "metadata": {},
     "output_type": "execute_result"
    }
   ],
   "source": [
    "1 <= 2"
   ]
  },
  {
   "cell_type": "code",
   "execution_count": 32,
   "metadata": {},
   "outputs": [
    {
     "data": {
      "text/plain": [
       "True"
      ]
     },
     "execution_count": 32,
     "metadata": {},
     "output_type": "execute_result"
    }
   ],
   "source": [
    "1 >= 1.0"
   ]
  },
  {
   "cell_type": "markdown",
   "metadata": {},
   "source": [
    "Incluso, es posible evaluar condiciones con doble operación:  "
   ]
  },
  {
   "cell_type": "code",
   "execution_count": 35,
   "metadata": {},
   "outputs": [
    {
     "data": {
      "text/plain": [
       "False"
      ]
     },
     "execution_count": 35,
     "metadata": {},
     "output_type": "execute_result"
    }
   ],
   "source": [
    "horas_en_dia = 30\n",
    "0 <= horas_en_dia <= 24"
   ]
  },
  {
   "cell_type": "markdown",
   "metadata": {},
   "source": [
    "Cuando trabajamos en la comparación de cadenas de texto, la evaluación tiene en cuenta la presencia de *espacios* y es *case sensitive*:"
   ]
  },
  {
   "cell_type": "code",
   "execution_count": 41,
   "metadata": {
    "scrolled": true
   },
   "outputs": [
    {
     "data": {
      "text/plain": [
       "False"
      ]
     },
     "execution_count": 41,
     "metadata": {},
     "output_type": "execute_result"
    }
   ],
   "source": [
    "'texto' == 'texto '"
   ]
  },
  {
   "cell_type": "code",
   "execution_count": 42,
   "metadata": {},
   "outputs": [
    {
     "data": {
      "text/plain": [
       "False"
      ]
     },
     "execution_count": 42,
     "metadata": {},
     "output_type": "execute_result"
    }
   ],
   "source": [
    "'Texto' == 'texto '"
   ]
  },
  {
   "cell_type": "code",
   "execution_count": 43,
   "metadata": {},
   "outputs": [
    {
     "data": {
      "text/plain": [
       "True"
      ]
     },
     "execution_count": 43,
     "metadata": {},
     "output_type": "execute_result"
    }
   ],
   "source": [
    "'texto' == 'texto'"
   ]
  },
  {
   "cell_type": "markdown",
   "metadata": {},
   "source": [
    "## Instrucciones y palabras reservadas \n",
    "\n",
    "Hasta el momento hemos estado usando algunas instrucciones utiles para ejecutar acciones en Python. Estas instrucciones en particular se identifican a traves de ser representadas con color verde como:\n",
    "\n",
    "```python\n",
    "# Instrucción Imprimir\n",
    "print(1)\n",
    "\n",
    "# Instrucción tipo\n",
    "type()\n",
    "```\n",
    "\n",
    "De la misma forma hemos visto como Python asigna clases y tipos de variables a través de las mismas palabras tambien en color verde, por ejemplo: \n",
    "\n",
    "```python\n",
    "int, str, float\n",
    "```\n",
    "Lo cierto es que estas palabras predefinidas son el centro de lenguaje y sintaxis usado por Python.\n",
    "\n",
    "\n",
    "Estás palbras son llamadas **palabras reservedas** de Python, es decir que Python ha reservado su uso para significados y acciones especificas y por ende no debemos usarlas como parte de nuestra codificacion en la asignación de valores.\n",
    "\n",
    "En el caso que queramos definir una variable con una palabra reservada, obtendríamos:"
   ]
  },
  {
   "cell_type": "code",
   "execution_count": 52,
   "metadata": {},
   "outputs": [
    {
     "ename": "SyntaxError",
     "evalue": "invalid syntax (<ipython-input-52-c804f1a5a471>, line 1)",
     "output_type": "error",
     "traceback": [
      "\u001b[0;36m  File \u001b[0;32m\"<ipython-input-52-c804f1a5a471>\"\u001b[0;36m, line \u001b[0;32m1\u001b[0m\n\u001b[0;31m    return = 0\u001b[0m\n\u001b[0m           ^\u001b[0m\n\u001b[0;31mSyntaxError\u001b[0m\u001b[0;31m:\u001b[0m invalid syntax\n"
     ]
    }
   ],
   "source": [
    "return = 0 "
   ]
  },
  {
   "cell_type": "markdown",
   "metadata": {},
   "source": [
    "Donde Python define claramente el tipo de error cometido. \n",
    "\n",
    "Otras **palabras reservadas** son:\n",
    "\n",
    "```python\n",
    "False, None, True, assert, break, class, continue, def, del, \n",
    "elif, else, except, finally, for, from, global, if, import, in, \n",
    "is, lambda, nonlocal, not, or, pass, raise, try, while, \n",
    "with, yield, as \n",
    "```"
   ]
  },
  {
   "cell_type": "markdown",
   "metadata": {},
   "source": [
    "## Secuencias y colecciones \n",
    "\n",
    "Las anteriores estructuras son las simples y naturales de entender (a pesar que las cadenas de texto pertencezcan a esta sección). Sin embargo python nos proporciona clases con mas estrcutura, que son muy pontentes y el conocer sus características nos permitirá dominar el trabajo con datos en Python. \n",
    "\n",
    "### Listas  \n",
    "\n",
    "Las listas son estructuras utiles y potentes para el trabajo con datos y algunas de sus atributos introducen conceptos muy utiles en Python. Son estructuras que guardan secuencias de otros objetos de forma ordenada e  indexados \n",
    "\n",
    "Para definir una lista podemos usar la defición con brackets `[]`"
   ]
  },
  {
   "cell_type": "code",
   "execution_count": 67,
   "metadata": {
    "scrolled": true
   },
   "outputs": [
    {
     "name": "stdout",
     "output_type": "stream",
     "text": [
      "mi lista es:  [1, 2, 3] , con tipo : <class 'list'>\n"
     ]
    }
   ],
   "source": [
    "mi_lista = [1,2,3]\n",
    "print('mi lista es: ', mi_lista , ', con tipo :', type(mi_lista))"
   ]
  },
  {
   "cell_type": "markdown",
   "metadata": {},
   "source": [
    "La primera característica importante de las listas son la capacidad de guardar multiples tipos de datos. Por ejemplo: "
   ]
  },
  {
   "cell_type": "code",
   "execution_count": 68,
   "metadata": {},
   "outputs": [
    {
     "name": "stdout",
     "output_type": "stream",
     "text": [
      "[1, 2.0, '3', True]\n"
     ]
    }
   ],
   "source": [
    "lista_combinada = [1,2.0,'3',True]\n",
    "print(lista_combinada)"
   ]
  },
  {
   "cell_type": "markdown",
   "metadata": {},
   "source": [
    "Segundo, podemos acceder a cualquier elemento de la lista gracias al índice (**Nota:** Los indices en Python inician en `0`) de éste al interior de la lista. \n",
    "\n",
    "Indices en orden ascendentes para recorrer la lista de inicio a fin o indices negativos iniciando en `-1` para recorrer la lista de fin a inicio:"
   ]
  },
  {
   "cell_type": "code",
   "execution_count": 69,
   "metadata": {
    "scrolled": false
   },
   "outputs": [
    {
     "name": "stdout",
     "output_type": "stream",
     "text": [
      "El primer valor de mi lista es:  1\n"
     ]
    }
   ],
   "source": [
    "print('El primer valor de mi lista es: ', lista_combinada[0])"
   ]
  },
  {
   "cell_type": "code",
   "execution_count": 70,
   "metadata": {},
   "outputs": [
    {
     "name": "stdout",
     "output_type": "stream",
     "text": [
      "El último valor de mi lista es:  True\n"
     ]
    }
   ],
   "source": [
    "print('El último valor de mi lista es: ', lista_combinada[-1])"
   ]
  },
  {
   "cell_type": "markdown",
   "metadata": {},
   "source": [
    "Tercero, para agregar un valor al final de nuestra lista podemos usar:"
   ]
  },
  {
   "cell_type": "code",
   "execution_count": 71,
   "metadata": {},
   "outputs": [
    {
     "name": "stdout",
     "output_type": "stream",
     "text": [
      "[1, 2.0, '3', True, 'Valor Nuevo']\n"
     ]
    }
   ],
   "source": [
    "lista_combinada.append('Valor Nuevo')\n",
    "print(lista_combinada)"
   ]
  },
  {
   "cell_type": "markdown",
   "metadata": {},
   "source": [
    "Cuarto, para borrar un elemento usamos:"
   ]
  },
  {
   "cell_type": "code",
   "execution_count": 72,
   "metadata": {},
   "outputs": [
    {
     "name": "stdout",
     "output_type": "stream",
     "text": [
      "[1, 2.0, '3', True]\n"
     ]
    }
   ],
   "source": [
    "del lista_combinada[-1]\n",
    "print(lista_combinada)"
   ]
  },
  {
   "cell_type": "markdown",
   "metadata": {},
   "source": [
    "Estas características y otra más, hacen las listas objetos funcionales para el trabajo en Python "
   ]
  },
  {
   "cell_type": "markdown",
   "metadata": {},
   "source": [
    "### Slicing"
   ]
  },
  {
   "cell_type": "markdown",
   "metadata": {},
   "source": [
    "Cuando queremos acceder a varios elementos de la lista pero al mismo tiempo, se usa el concepto de ***slicing***, que nos retorna una lista con los elementos seleccionados:"
   ]
  },
  {
   "cell_type": "code",
   "execution_count": 30,
   "metadata": {
    "scrolled": true
   },
   "outputs": [
    {
     "name": "stdout",
     "output_type": "stream",
     "text": [
      "Los dos primeros valores de mi lista son:  [1, 2.0]\n"
     ]
    }
   ],
   "source": [
    "print('Los dos primeros valores de mi lista son: ', lista_combinada[0:2])"
   ]
  },
  {
   "cell_type": "markdown",
   "metadata": {},
   "source": [
    "En particular, se usa comunmente el concepto de ***slicing*** para operar cadenas de texto en la siguiente forma:"
   ]
  },
  {
   "cell_type": "code",
   "execution_count": 63,
   "metadata": {},
   "outputs": [
    {
     "name": "stdout",
     "output_type": "stream",
     "text": [
      "quiero acceder a la parte final\n"
     ]
    }
   ],
   "source": [
    "un_texto = 'Este es un texto, quiero acceder a la parte final'\n",
    "print(un_texto[18:])"
   ]
  },
  {
   "cell_type": "markdown",
   "metadata": {},
   "source": [
    "### Tuplas \n",
    "\n",
    "Las **tuplas** son objetos similares a las **listas** que acabamos de ver, sin embargo tienen una gran diferencia: las **listas son mutables** mientras que las **tuplas son inmutables**\n",
    "\n",
    "Definamos una tupla usando `()`:"
   ]
  },
  {
   "cell_type": "code",
   "execution_count": 73,
   "metadata": {},
   "outputs": [
    {
     "name": "stdout",
     "output_type": "stream",
     "text": [
      "Mi primera tupla: (1, 2, 2, 4, 5) ,con tipo: <class 'tuple'>\n"
     ]
    }
   ],
   "source": [
    "mi_tupla = (1,2,2,4,5)\n",
    "print('Mi primera tupla:', mi_tupla, ',con tipo:', type(mi_tupla))"
   ]
  },
  {
   "cell_type": "markdown",
   "metadata": {},
   "source": [
    "También tienen la capacidad de guardar multiples tipos de datos:"
   ]
  },
  {
   "cell_type": "code",
   "execution_count": 74,
   "metadata": {},
   "outputs": [
    {
     "name": "stdout",
     "output_type": "stream",
     "text": [
      "(1, 2.0, '3', True)\n"
     ]
    }
   ],
   "source": [
    "tupla_combinada = (1,2.0,'3',True)\n",
    "print(tupla_combinada)"
   ]
  },
  {
   "cell_type": "markdown",
   "metadata": {},
   "source": [
    "Y se pueden acceder a sus entradas por indice:"
   ]
  },
  {
   "cell_type": "code",
   "execution_count": 75,
   "metadata": {
    "scrolled": false
   },
   "outputs": [
    {
     "name": "stdout",
     "output_type": "stream",
     "text": [
      "El primer valor de mi tupla es:  1\n"
     ]
    }
   ],
   "source": [
    "print('El primer valor de mi tupla es: ', tupla_combinada[0])"
   ]
  },
  {
   "cell_type": "markdown",
   "metadata": {},
   "source": [
    "Sin embargo al ser inmutable, no las podemos modificar:"
   ]
  },
  {
   "cell_type": "code",
   "execution_count": 76,
   "metadata": {},
   "outputs": [
    {
     "ename": "TypeError",
     "evalue": "'tuple' object does not support item assignment",
     "output_type": "error",
     "traceback": [
      "\u001b[0;31m---------------------------------------------------------------------------\u001b[0m",
      "\u001b[0;31mTypeError\u001b[0m                                 Traceback (most recent call last)",
      "\u001b[0;32m<ipython-input-76-4dfdae9c0b5c>\u001b[0m in \u001b[0;36m<module>\u001b[0;34m\u001b[0m\n\u001b[0;32m----> 1\u001b[0;31m \u001b[0mtupla_combinada\u001b[0m\u001b[0;34m[\u001b[0m\u001b[0;36m3\u001b[0m\u001b[0;34m]\u001b[0m \u001b[0;34m=\u001b[0m \u001b[0;36m1\u001b[0m\u001b[0;34m\u001b[0m\u001b[0;34m\u001b[0m\u001b[0m\n\u001b[0m",
      "\u001b[0;31mTypeError\u001b[0m: 'tuple' object does not support item assignment"
     ]
    }
   ],
   "source": [
    "tupla_combinada[3] = 1"
   ]
  },
  {
   "cell_type": "markdown",
   "metadata": {},
   "source": [
    "### Diccionarios \n",
    "\n",
    "Los diccionarios son estructuras particulares que replican el principio de almacenamiento de informacion ***key-value*** usado ampliamente en bases de datos. Se caracterizan por ser estructuras no ordenadas, mutables e indexadas. Estas características los hacen herramientas potentes guardas y gestionar información en el analisis de datos.\n",
    "\n",
    "Para definir un diccionario podemos usar `{}`:"
   ]
  },
  {
   "cell_type": "code",
   "execution_count": 85,
   "metadata": {},
   "outputs": [
    {
     "data": {
      "text/plain": [
       "dict"
      ]
     },
     "execution_count": 85,
     "metadata": {},
     "output_type": "execute_result"
    }
   ],
   "source": [
    "type({})"
   ]
  },
  {
   "cell_type": "markdown",
   "metadata": {},
   "source": [
    "Aquí vemos que Python asigna la clase `dict` al diccionario. Ahora veamos un ejemplo:"
   ]
  },
  {
   "cell_type": "code",
   "execution_count": 78,
   "metadata": {},
   "outputs": [
    {
     "name": "stdout",
     "output_type": "stream",
     "text": [
      "{1: 1, 'key': 'valor', 'lista': [1, 2, 'valor']}\n"
     ]
    }
   ],
   "source": [
    "mi_diccionario = {\n",
    "    1:1,\n",
    "    'key':'valor',\n",
    "    'lista': [1,2,'valor']\n",
    "}\n",
    "print(mi_diccionario)"
   ]
  },
  {
   "cell_type": "markdown",
   "metadata": {},
   "source": [
    "Como vemos el diccionario puede ser multiclases tanto en llaves como en valores. Para acceder a los valores debemos proveer la llave de ingreso en la siguiente forma:"
   ]
  },
  {
   "cell_type": "code",
   "execution_count": 79,
   "metadata": {},
   "outputs": [
    {
     "data": {
      "text/plain": [
       "[1, 2, 'valor']"
      ]
     },
     "execution_count": 79,
     "metadata": {},
     "output_type": "execute_result"
    }
   ],
   "source": [
    "mi_diccionario['lista']"
   ]
  },
  {
   "cell_type": "markdown",
   "metadata": {},
   "source": [
    "Para agregar un valor a nuestro diccionario podemos:"
   ]
  },
  {
   "cell_type": "code",
   "execution_count": 83,
   "metadata": {},
   "outputs": [
    {
     "data": {
      "text/plain": [
       "{1: 1, 'key': 'valor', 'lista': [1, 2, 'valor'], 'Nuevo Key': 'Nuevo Valor'}"
      ]
     },
     "execution_count": 83,
     "metadata": {},
     "output_type": "execute_result"
    }
   ],
   "source": [
    "mi_diccionario['Nuevo Key'] = 'Nuevo Valor'\n",
    "mi_diccionario"
   ]
  },
  {
   "cell_type": "markdown",
   "metadata": {},
   "source": [
    "Si queremos validar todos las llaves contenidas en un diccionario de gran tamaño, podemos ejecutar:"
   ]
  },
  {
   "cell_type": "code",
   "execution_count": 80,
   "metadata": {},
   "outputs": [
    {
     "data": {
      "text/plain": [
       "dict_keys([1, 'key', 'lista'])"
      ]
     },
     "execution_count": 80,
     "metadata": {},
     "output_type": "execute_result"
    }
   ],
   "source": [
    "mi_diccionario.keys()"
   ]
  },
  {
   "cell_type": "markdown",
   "metadata": {},
   "source": [
    "de igual forma podemos ver los valores:"
   ]
  },
  {
   "cell_type": "code",
   "execution_count": 81,
   "metadata": {},
   "outputs": [
    {
     "data": {
      "text/plain": [
       "dict_values([1, 'valor', [1, 2, 'valor']])"
      ]
     },
     "execution_count": 81,
     "metadata": {},
     "output_type": "execute_result"
    }
   ],
   "source": [
    "mi_diccionario.values()"
   ]
  },
  {
   "cell_type": "markdown",
   "metadata": {},
   "source": [
    "### Conjuntos "
   ]
  },
  {
   "cell_type": "markdown",
   "metadata": {},
   "source": [
    "Esta clase de Python *no nordenada* y *no indexada* simula el concepto matemático de conjunto y permite realizar las operaciones usuales que conocemos de esta entidad matemática.\n",
    "\n",
    "La definición de un conjunto se puede hacer usando `{}`:"
   ]
  },
  {
   "cell_type": "code",
   "execution_count": 101,
   "metadata": {},
   "outputs": [
    {
     "name": "stdout",
     "output_type": "stream",
     "text": [
      "Mi primer conjunto: (1, 2, 2, 4, 5) ,con tipo: <class 'set'>\n"
     ]
    }
   ],
   "source": [
    "mi_conjunto = set({1,2,2,4,5})\n",
    "print('Mi primer conjunto:', mi_tupla, ',con tipo:', type(mi_conjunto))"
   ]
  },
  {
   "cell_type": "markdown",
   "metadata": {},
   "source": [
    "Algunas de las operaciones más comunes son la **unión** o **interseccion** de conjuntos:"
   ]
  },
  {
   "cell_type": "code",
   "execution_count": 102,
   "metadata": {},
   "outputs": [],
   "source": [
    "idiomas_1 = set({'español','inglés','francés'})\n",
    "idiomas_2 = set({'francés','alemán'})"
   ]
  },
  {
   "cell_type": "code",
   "execution_count": 103,
   "metadata": {},
   "outputs": [
    {
     "data": {
      "text/plain": [
       "{'alemán', 'español', 'francés', 'inglés'}"
      ]
     },
     "execution_count": 103,
     "metadata": {},
     "output_type": "execute_result"
    }
   ],
   "source": [
    "idiomas_1.union( idiomas_2)"
   ]
  },
  {
   "cell_type": "code",
   "execution_count": 104,
   "metadata": {},
   "outputs": [
    {
     "data": {
      "text/plain": [
       "{'francés'}"
      ]
     },
     "execution_count": 104,
     "metadata": {},
     "output_type": "execute_result"
    }
   ],
   "source": [
    "idiomas_1.intersection( idiomas_2)"
   ]
  },
  {
   "cell_type": "markdown",
   "metadata": {},
   "source": [
    "Para remover un item (el último) podemos hacer:"
   ]
  },
  {
   "cell_type": "code",
   "execution_count": 105,
   "metadata": {},
   "outputs": [
    {
     "data": {
      "text/plain": [
       "'español'"
      ]
     },
     "execution_count": 105,
     "metadata": {},
     "output_type": "execute_result"
    }
   ],
   "source": [
    "idiomas_1.pop()"
   ]
  },
  {
   "cell_type": "code",
   "execution_count": 106,
   "metadata": {},
   "outputs": [
    {
     "data": {
      "text/plain": [
       "{'francés', 'inglés'}"
      ]
     },
     "execution_count": 106,
     "metadata": {},
     "output_type": "execute_result"
    }
   ],
   "source": [
    "idiomas_1"
   ]
  },
  {
   "cell_type": "markdown",
   "metadata": {},
   "source": [
    "## Control de flujo \n",
    "\n",
    "Cuando creamos un código o rutina para ejecutar un tarea, nuestro programa hace uso de herramientas que controlan el flujo de la rutina y basado en reglas y condiciones toma acciones para llegar a un resultado final. Esta habilidad para cambiar y manejar el flujo de información es el principio de los algoritmos usados en muchas aplicaciones informáticas. \n",
    "\n",
    "Apoyados en los estamentos `break`, `pass`, `continue` tenemos los: loops o condicionales. En todo lenguaje de programación para la definición de estos bloques de codificación es usado un simbolo o palabra clave que define la sección de programa.  \n",
    "\n",
    "Por ejemplo en **C** es usado los brackets `{}`. En el caso de Python, es usado `:` seguido de indentación en la siguiente linea de código. Todo lo que esté bajo los \":\" y sea indentado, perteneserá a la sección de codigo definida.\n",
    "\n",
    "### Condicionales y estamentos If - else \n",
    "\n",
    "La primera herramienta para controlar el flujo de nuestro programa son los condicionales. La estructura básica se define como:\n",
    "\n",
    "```\n",
    "\n",
    "SI CONDICION ES VALIDA:\n",
    "    EJECUTAR ACCION\n",
    "SI NO:\n",
    "    EJECUTAR ACCION\n",
    "```\n",
    "\n",
    "Por ejemplo:"
   ]
  },
  {
   "cell_type": "code",
   "execution_count": 107,
   "metadata": {},
   "outputs": [
    {
     "name": "stdout",
     "output_type": "stream",
     "text": [
      "Número no es 1\n"
     ]
    }
   ],
   "source": [
    "mi_numero = 3\n",
    "\n",
    "if mi_numero==1:\n",
    "    print('Número es 1')\n",
    "else:\n",
    "    print('Número no es 1')"
   ]
  },
  {
   "cell_type": "markdown",
   "metadata": {},
   "source": [
    "El primer estamento valida si la condición enunciada se cumple, en el caso que si, accede a la sección de código y realiza la acción que queremos. En caso contrario, cuando la condición no se cumple, el program avanza a la siguiente sección. \n",
    "\n",
    "Cuando queremos realizar condicionales con más de una condición podemos usar una tercera instruccion `elif`:"
   ]
  },
  {
   "cell_type": "code",
   "execution_count": 108,
   "metadata": {},
   "outputs": [
    {
     "name": "stdout",
     "output_type": "stream",
     "text": [
      "Número es mayor 1\n"
     ]
    }
   ],
   "source": [
    "mi_numero = 3\n",
    "\n",
    "if mi_numero==1:\n",
    "    print('Número es 1')\n",
    "elif mi_numero>1:\n",
    "    print('Número es mayor 1')\n",
    "else:\n",
    "    print('Número no es 1')"
   ]
  },
  {
   "cell_type": "markdown",
   "metadata": {},
   "source": [
    "### Loops - estamento *while*\n",
    "\n",
    "La estructura `while` nos permite ejecutar una sección de código de forma repetiva en un *loop* mientras se cumpla la condición que se valida en cada iteración. \n",
    "\n",
    "Por ejemplo, si queremos imprimir los números enteros del 1 al 10, la estructura básica del `while` es:"
   ]
  },
  {
   "cell_type": "code",
   "execution_count": 109,
   "metadata": {
    "scrolled": true
   },
   "outputs": [
    {
     "name": "stdout",
     "output_type": "stream",
     "text": [
      "Mi número actual es:  0\n",
      "Mi número actual es:  1\n",
      "Mi número actual es:  2\n",
      "Mi número actual es:  3\n",
      "Mi número actual es:  4\n",
      "Mi número actual es:  5\n",
      "Mi número actual es:  6\n",
      "Mi número actual es:  7\n",
      "Mi número actual es:  8\n",
      "Mi número actual es:  9\n",
      "Mi número actual es:  10\n"
     ]
    }
   ],
   "source": [
    "mi_numero_actual = 0 \n",
    "while mi_numero_actual<11:\n",
    "    print('Mi número actual es: ',mi_numero_actual)\n",
    "    mi_numero_actual=mi_numero_actual+1"
   ]
  },
  {
   "cell_type": "markdown",
   "metadata": {},
   "source": [
    "### Loops - estamento *for*\n",
    "\n",
    "Al igual que `while`, el `for` ejecuta una acción repetitivamente, sin embargo lo hace moviendo un **iterador** sobre una secuencia de valores (es similar a validar la condición el **iterador** esta en el rango de valores deseado). \n",
    "\n",
    "Si de nuevo queremos imprimir los numero enteros hasta el 10, el programa sería:"
   ]
  },
  {
   "cell_type": "code",
   "execution_count": 116,
   "metadata": {},
   "outputs": [
    {
     "name": "stdout",
     "output_type": "stream",
     "text": [
      "Mi número actual es:  0\n",
      "Mi número actual es:  1\n",
      "Mi número actual es:  2\n",
      "Mi número actual es:  3\n",
      "Mi número actual es:  4\n",
      "Mi número actual es:  5\n",
      "Mi número actual es:  6\n",
      "Mi número actual es:  7\n",
      "Mi número actual es:  8\n",
      "Mi número actual es:  9\n",
      "Mi número actual es:  10\n"
     ]
    }
   ],
   "source": [
    "for numero_actual in [0,1,2,3,4,5,6,7,8,9,10]:\n",
    "    print('Mi número actual es: ',numero_actual)"
   ]
  },
  {
   "cell_type": "markdown",
   "metadata": {},
   "source": [
    "Nuestro programa puede iterar sobre cualquier tipo de datos, por ejemplo `str`"
   ]
  },
  {
   "cell_type": "code",
   "execution_count": 121,
   "metadata": {},
   "outputs": [
    {
     "name": "stdout",
     "output_type": "stream",
     "text": [
      "Nombre del pais: Argentina \n",
      "Nombre del pais: Brasil\n",
      "Nombre del pais: Colombia\n",
      "Nombre del pais: Chile\n",
      "Nombre del pais: Uruguay\n"
     ]
    }
   ],
   "source": [
    "for pais in ['Argentina ','Brasil','Colombia','Chile','Uruguay']:\n",
    "    print('Nombre del pais:', pais)"
   ]
  },
  {
   "cell_type": "markdown",
   "metadata": {},
   "source": [
    "### Funciones \n",
    "\n",
    "Cuando queremos hacer generalizable, reusable, y replicable nuestro código para diferentes paramatrizaciones o circunstanacias podemos usar el concepto de funciones. Una función al igual que en matemáticas es una herramienta que dado un input definido, un conjunto de acciones son realizadas. \n",
    "\n",
    "Un ejemplo básico sería:"
   ]
  },
  {
   "cell_type": "code",
   "execution_count": 122,
   "metadata": {},
   "outputs": [],
   "source": [
    "def dar_saludo(nombre):\n",
    "    \"\"\" \n",
    "    Función que recibe un nombre y proporciona un saludo a este \n",
    "    \"\"\"\n",
    "    print('Saludo para', nombre)"
   ]
  },
  {
   "cell_type": "code",
   "execution_count": 123,
   "metadata": {},
   "outputs": [
    {
     "name": "stdout",
     "output_type": "stream",
     "text": [
      "Saludo para Alicorp\n",
      "Saludo para Vitapro\n"
     ]
    }
   ],
   "source": [
    "dar_saludo('Alicorp')\n",
    "dar_saludo('Vitapro')"
   ]
  },
  {
   "cell_type": "markdown",
   "metadata": {},
   "source": [
    "Allí vemos que replicamos la misma tarea con dos entradas diferentes sin embargo vemos que no necesariamente \n",
    "tienen que dar un resultado.\n",
    "\n",
    "Para mayor facilidad en el uso de funciones Python nos permita documentarla sencillamente y mostrar esta información con:"
   ]
  },
  {
   "cell_type": "code",
   "execution_count": 125,
   "metadata": {
    "scrolled": true
   },
   "outputs": [
    {
     "name": "stdout",
     "output_type": "stream",
     "text": [
      "Help on function dar_saludo in module __main__:\n",
      "\n",
      "dar_saludo(nombre)\n",
      "    Función que recibe un nombre y proporciona un saludo a este\n",
      "\n"
     ]
    }
   ],
   "source": [
    "help(dar_saludo)"
   ]
  },
  {
   "cell_type": "markdown",
   "metadata": {},
   "source": [
    "## Librearias y módulos  \n",
    "\n",
    "Como hemos visto anteriormente, algunas de las tareas o acciones que queremos realizar no se encuentran por defecto en Python. Cuando queremos usar por ejemplo funciones matematicas no estandar, podemos importar el modulo o tambien llamado libreria `math`. \n",
    "\n",
    "Gran parte de estas librerías son desarrolladas como proyectos **Open Source**. En esta dinámica, diferentes organizaciones (fundaciones, empresas privadas, universidades o personas individuales) construyen modulos adicionales para solucionar problemas particulares, por ejemplo: análisis numérico, manejo de datos, creación de modelos, visualizaciones. Algunas de estas librerias y modulos son:\n",
    "\n",
    "* [numpy](https://numpy.org) \n",
    "* scipy\n",
    "* pandas\n",
    "* statsmodels \n",
    "* sklearn\n",
    "* beautiful soup\n",
    "* matplotlib\n",
    "\n",
    "### Numpy \n",
    "\n",
    "[Numpy](https://numpy.org) contiene rutinas para el manejar de estructuras numéricas y permitir por ejemplo operar matrices y vectores en operaciones de algebra lineal de forma rapida y eficiente. Esta libreria abstrae la creacion de las estructuras (matrices) y la definición de las operaciones para iniciar nuestro trabajo con algo en funcionamiento. Este módulo usa el poder y eficiencia de lenguajes como **C** y **Fortran** para aumentar la velocidad de ejecución. \n",
    "\n",
    "### Estructuras básicas: vectores y matrices \n",
    "\n",
    "Empezemos por las estructuras básicas para operar. Primero debemos usar la instruccion `import` para importar el módulo: "
   ]
  },
  {
   "cell_type": "code",
   "execution_count": 126,
   "metadata": {},
   "outputs": [],
   "source": [
    "import numpy as np"
   ]
  },
  {
   "cell_type": "markdown",
   "metadata": {},
   "source": [
    "Numpy usa la estructura **arreglos** para definir vectores y matrices. Esta se caracteriza por permitir solo elementos del mismo tipo en él. Para definirlos usamos:"
   ]
  },
  {
   "cell_type": "code",
   "execution_count": 134,
   "metadata": {},
   "outputs": [
    {
     "data": {
      "text/plain": [
       "array([1, 2, 3, 4, 5])"
      ]
     },
     "execution_count": 134,
     "metadata": {},
     "output_type": "execute_result"
    }
   ],
   "source": [
    "arreglo = np.array([1,2,3,4,5])\n",
    "arreglo"
   ]
  },
  {
   "cell_type": "code",
   "execution_count": 135,
   "metadata": {},
   "outputs": [
    {
     "name": "stdout",
     "output_type": "stream",
     "text": [
      "Nuevo objeto: [1 2 3 4 5] de tipo: <class 'numpy.ndarray'>\n"
     ]
    }
   ],
   "source": [
    "print('Nuevo objeto:',arreglo, 'de tipo:',type(arreglo))"
   ]
  },
  {
   "cell_type": "markdown",
   "metadata": {},
   "source": [
    "Para verificar su tamaño usamos el atributo `shape`:"
   ]
  },
  {
   "cell_type": "code",
   "execution_count": 136,
   "metadata": {},
   "outputs": [
    {
     "data": {
      "text/plain": [
       "(5,)"
      ]
     },
     "execution_count": 136,
     "metadata": {},
     "output_type": "execute_result"
    }
   ],
   "source": [
    "arreglo.shape"
   ]
  },
  {
   "cell_type": "markdown",
   "metadata": {},
   "source": [
    "El arreglo que creamos es **1-dimesional** de tamaño 5. Este arreglo **1-dimensional** hace el papel de vector para nosostros en Python y numpy"
   ]
  },
  {
   "cell_type": "markdown",
   "metadata": {},
   "source": [
    "Si queremos definir un vetor columna especificamente, sería"
   ]
  },
  {
   "cell_type": "code",
   "execution_count": 137,
   "metadata": {},
   "outputs": [
    {
     "name": "stdout",
     "output_type": "stream",
     "text": [
      "El vector tiene forma: (5, 1)\n"
     ]
    },
    {
     "data": {
      "text/plain": [
       "array([[1],\n",
       "       [2],\n",
       "       [3],\n",
       "       [4],\n",
       "       [5]])"
      ]
     },
     "execution_count": 137,
     "metadata": {},
     "output_type": "execute_result"
    }
   ],
   "source": [
    "vector_columna = np.array([[1],[2],[3],[4],[5]])\n",
    "print('El vector tiene forma:',vector_columna.shape)\n",
    "vector_columna"
   ]
  },
  {
   "cell_type": "markdown",
   "metadata": {},
   "source": [
    "Aplicando la traspuesta, objetenemos un vector fila"
   ]
  },
  {
   "cell_type": "code",
   "execution_count": 141,
   "metadata": {},
   "outputs": [
    {
     "name": "stdout",
     "output_type": "stream",
     "text": [
      "El vector tiene forma: (5, 1)\n"
     ]
    },
    {
     "data": {
      "text/plain": [
       "array([[1],\n",
       "       [2],\n",
       "       [3],\n",
       "       [4],\n",
       "       [5]])"
      ]
     },
     "execution_count": 141,
     "metadata": {},
     "output_type": "execute_result"
    }
   ],
   "source": [
    "vector_fila = vector_columna.T\n",
    "print('El vector tiene forma:',vector_fila.shape)\n",
    "vector_fila"
   ]
  },
  {
   "cell_type": "markdown",
   "metadata": {},
   "source": [
    "Para crear matrices podemos usar una lista de listas de la siguiente forma:"
   ]
  },
  {
   "cell_type": "code",
   "execution_count": 142,
   "metadata": {},
   "outputs": [
    {
     "data": {
      "text/plain": [
       "array([[0, 1],\n",
       "       [0, 1]])"
      ]
     },
     "execution_count": 142,
     "metadata": {},
     "output_type": "execute_result"
    }
   ],
   "source": [
    "matriz = np.array([[0,1],[0,1]])\n",
    "matriz"
   ]
  },
  {
   "cell_type": "markdown",
   "metadata": {},
   "source": [
    "Su tamaño se valida nuevamente:"
   ]
  },
  {
   "cell_type": "code",
   "execution_count": 144,
   "metadata": {
    "scrolled": false
   },
   "outputs": [
    {
     "data": {
      "text/plain": [
       "(2, 2)"
      ]
     },
     "execution_count": 144,
     "metadata": {},
     "output_type": "execute_result"
    }
   ],
   "source": [
    "matriz.shape"
   ]
  },
  {
   "cell_type": "markdown",
   "metadata": {},
   "source": [
    "Hay algunas funciones predefinidas utiles para crear matrices desde cero:"
   ]
  },
  {
   "cell_type": "code",
   "execution_count": 145,
   "metadata": {},
   "outputs": [
    {
     "data": {
      "text/plain": [
       "array([[0., 0., 0., 0., 0.],\n",
       "       [0., 0., 0., 0., 0.],\n",
       "       [0., 0., 0., 0., 0.],\n",
       "       [0., 0., 0., 0., 0.],\n",
       "       [0., 0., 0., 0., 0.]])"
      ]
     },
     "execution_count": 145,
     "metadata": {},
     "output_type": "execute_result"
    }
   ],
   "source": [
    "# Crear matriz con ceros\n",
    "np.zeros((5,5))"
   ]
  },
  {
   "cell_type": "code",
   "execution_count": 146,
   "metadata": {},
   "outputs": [
    {
     "data": {
      "text/plain": [
       "array([[1., 0., 0., 0., 0.],\n",
       "       [0., 1., 0., 0., 0.],\n",
       "       [0., 0., 1., 0., 0.],\n",
       "       [0., 0., 0., 1., 0.],\n",
       "       [0., 0., 0., 0., 1.]])"
      ]
     },
     "execution_count": 146,
     "metadata": {},
     "output_type": "execute_result"
    }
   ],
   "source": [
    "# Crear matriz identidad\n",
    "np.identity(5)"
   ]
  },
  {
   "cell_type": "markdown",
   "metadata": {},
   "source": [
    "### Algebra matricial\n",
    "\n",
    "Con los objetos definidos, el algebra matricial es bastante simple.\n",
    "\n",
    "Primero, la multiplicación escalar sería:"
   ]
  },
  {
   "cell_type": "code",
   "execution_count": 148,
   "metadata": {},
   "outputs": [
    {
     "data": {
      "text/plain": [
       "array([[0.125, 0.   , 0.   ],\n",
       "       [0.   , 0.125, 0.   ],\n",
       "       [0.   , 0.   , 0.125]])"
      ]
     },
     "execution_count": 148,
     "metadata": {},
     "output_type": "execute_result"
    }
   ],
   "source": [
    "0.125*np.identity(3)"
   ]
  },
  {
   "cell_type": "markdown",
   "metadata": {},
   "source": [
    "Segundo, la suma de matrices:"
   ]
  },
  {
   "cell_type": "code",
   "execution_count": 150,
   "metadata": {},
   "outputs": [
    {
     "data": {
      "text/plain": [
       "array([[2., 1.],\n",
       "       [1., 2.]])"
      ]
     },
     "execution_count": 150,
     "metadata": {},
     "output_type": "execute_result"
    }
   ],
   "source": [
    "np.identity(2) + np.array([[1,1],[1,1]])"
   ]
  },
  {
   "cell_type": "markdown",
   "metadata": {},
   "source": [
    "La multiplicación de punto a punto de matrices es:"
   ]
  },
  {
   "cell_type": "code",
   "execution_count": 151,
   "metadata": {},
   "outputs": [
    {
     "data": {
      "text/plain": [
       "array([[1., 0.],\n",
       "       [0., 1.]])"
      ]
     },
     "execution_count": 151,
     "metadata": {},
     "output_type": "execute_result"
    }
   ],
   "source": [
    "np.identity(2)*np.ones((2,2))"
   ]
  },
  {
   "cell_type": "markdown",
   "metadata": {},
   "source": [
    "La multiplicación de matrices es:"
   ]
  },
  {
   "cell_type": "code",
   "execution_count": 153,
   "metadata": {},
   "outputs": [
    {
     "data": {
      "text/plain": [
       "array([[1., 1., 1.],\n",
       "       [1., 1., 1.],\n",
       "       [1., 1., 1.]])"
      ]
     },
     "execution_count": 153,
     "metadata": {},
     "output_type": "execute_result"
    }
   ],
   "source": [
    "np.dot(np.identity(3),np.ones((3,3)))"
   ]
  },
  {
   "cell_type": "markdown",
   "metadata": {},
   "source": [
    "Pero tengamos presentes las dimensiones:"
   ]
  },
  {
   "cell_type": "code",
   "execution_count": 155,
   "metadata": {},
   "outputs": [
    {
     "ename": "ValueError",
     "evalue": "shapes (2,2) and (3,3) not aligned: 2 (dim 1) != 3 (dim 0)",
     "output_type": "error",
     "traceback": [
      "\u001b[0;31m---------------------------------------------------------------------------\u001b[0m",
      "\u001b[0;31mValueError\u001b[0m                                Traceback (most recent call last)",
      "\u001b[0;32m<ipython-input-155-9b68eaf6e8e9>\u001b[0m in \u001b[0;36m<module>\u001b[0;34m\u001b[0m\n\u001b[0;32m----> 1\u001b[0;31m \u001b[0mnp\u001b[0m\u001b[0;34m.\u001b[0m\u001b[0mdot\u001b[0m\u001b[0;34m(\u001b[0m\u001b[0mnp\u001b[0m\u001b[0;34m.\u001b[0m\u001b[0midentity\u001b[0m\u001b[0;34m(\u001b[0m\u001b[0;36m2\u001b[0m\u001b[0;34m)\u001b[0m\u001b[0;34m,\u001b[0m\u001b[0mnp\u001b[0m\u001b[0;34m.\u001b[0m\u001b[0mones\u001b[0m\u001b[0;34m(\u001b[0m\u001b[0;34m(\u001b[0m\u001b[0;36m3\u001b[0m\u001b[0;34m,\u001b[0m\u001b[0;36m3\u001b[0m\u001b[0;34m)\u001b[0m\u001b[0;34m)\u001b[0m\u001b[0;34m)\u001b[0m\u001b[0;34m\u001b[0m\u001b[0;34m\u001b[0m\u001b[0m\n\u001b[0m",
      "\u001b[0;32m<__array_function__ internals>\u001b[0m in \u001b[0;36mdot\u001b[0;34m(*args, **kwargs)\u001b[0m\n",
      "\u001b[0;31mValueError\u001b[0m: shapes (2,2) and (3,3) not aligned: 2 (dim 1) != 3 (dim 0)"
     ]
    }
   ],
   "source": [
    "np.dot(np.identity(2),np.ones((3,3)))"
   ]
  },
  {
   "cell_type": "markdown",
   "metadata": {},
   "source": [
    "Algunas operaciones mas son por ejemplo:"
   ]
  },
  {
   "cell_type": "code",
   "execution_count": 157,
   "metadata": {},
   "outputs": [
    {
     "data": {
      "text/plain": [
       "5.0"
      ]
     },
     "execution_count": 157,
     "metadata": {},
     "output_type": "execute_result"
    }
   ],
   "source": [
    "# Calcular la hipotenusa de un triángulo rectángulo \n",
    "v = np.array([3,4])\n",
    "np.sqrt(np.dot(v,v))"
   ]
  },
  {
   "cell_type": "code",
   "execution_count": 158,
   "metadata": {},
   "outputs": [
    {
     "data": {
      "text/plain": [
       "array([[1, 3],\n",
       "       [2, 4]])"
      ]
     },
     "execution_count": 158,
     "metadata": {},
     "output_type": "execute_result"
    }
   ],
   "source": [
    "# Calular la traspuesta\n",
    "m = np.array([[1,2],[3,4]])\n",
    "m.T"
   ]
  },
  {
   "cell_type": "code",
   "execution_count": 159,
   "metadata": {},
   "outputs": [
    {
     "data": {
      "text/plain": [
       "array([[-2. ,  1. ],\n",
       "       [ 1.5, -0.5]])"
      ]
     },
     "execution_count": 159,
     "metadata": {},
     "output_type": "execute_result"
    }
   ],
   "source": [
    "# Calcular la inversa\n",
    "np.linalg.inv(m)"
   ]
  },
  {
   "cell_type": "markdown",
   "metadata": {},
   "source": [
    "## Ejemplo: Encontrando PI con el método de Monte Carlo \n",
    "\n",
    "Para calcular $\\pi$> de forma numérica podemos usar las relaciones de proporición que exiten entre un círculo de radio $R$ circunscrito en una cuadrado como muestra el diagrama:\n",
    "\n",
    "<img src=\"../99-imagenes/mote-carlo.png\" alt=\"drawing\" width=\"270\"/>\n",
    "\n",
    "Allí sabemos que que el área del círculo está definido como:\n",
    "\n",
    "$$A_{circulo} = \\pi R^2$$\n",
    "\n",
    "y el área del cuadrado como:\n",
    "\n",
    "$$A_{cuadrado} = 4R^2$$\n",
    "\n",
    "\n",
    "Si dividimos una ecuacion entre la otra tenemos un relación para encontrar $\\pi$ apartir de dos áreas arbitrarias:\n",
    "\n",
    "$$ \\frac{A_{circulo}}{A_{cuadrado}} = \\frac{\\pi R^2}{4R^2}$$\n",
    "\n",
    "Simplificando y despejando:\n",
    "\n",
    "\n",
    "$$ \\pi = 4 \\frac{A_{circulo}}{A_{cuadrado}} $$\n",
    "\n",
    "Ahora, **¿cómo calculamos el área de un circulo y un cuadrado circunscritos con un $R$?**  \n",
    "\n",
    "Usando el princpipio de Monte Carlo, si muestreamos numeros aleatorios de forma uniforme en un cuadrado de lados $2R$, se tiene que el número de puntos que caen en el circulo debe ser proporcional a su áera y el numero de puntos totales muestreados debe ser proporcional al área del cuadrado. \n",
    "\n",
    "\n",
    "Así la ecuacion puede ser redefinida como:\n",
    "\n",
    "$$ \\pi = 4\\frac{A_{circulo}}{A_{cuadrado}} \\hspace{0.5cm}  \\approx \\hspace{0.5cm} 4\\frac{puntos\\_en\\_círculo}{puntos\\_totales}$$\n",
    "\n",
    "#### Algoritmo:"
   ]
  },
  {
   "cell_type": "code",
   "execution_count": 356,
   "metadata": {
    "scrolled": true
   },
   "outputs": [],
   "source": [
    "# Definimos los parametros de la simulación\n",
    "n_simul = 1000\n",
    "R = 1\n",
    "\n",
    "# Pre-definimos algunas estructuras para guardar nuestros resultados  \n",
    "x = []\n",
    "y = []\n",
    "\n",
    "# Simulamos números aleatorios uniformemente [-1,1]\n",
    "for i in range(n_simul):\n",
    "    x.append(np.random.uniform(-R,R))\n",
    "    y.append(np.random.uniform(-R,R))"
   ]
  },
  {
   "cell_type": "markdown",
   "metadata": {},
   "source": [
    "Veamos como nos da nuestra simulación:"
   ]
  },
  {
   "cell_type": "code",
   "execution_count": 357,
   "metadata": {},
   "outputs": [
    {
     "data": {
      "text/plain": [
       "<matplotlib.collections.PathCollection at 0x12285e390>"
      ]
     },
     "execution_count": 357,
     "metadata": {},
     "output_type": "execute_result"
    },
    {
     "data": {
      "image/png": "[encoded data removed]",
      "text/plain": [
       "<Figure size 504x504 with 1 Axes>"
      ]
     },
     "metadata": {
      "needs_background": "light"
     },
     "output_type": "display_data"
    }
   ],
   "source": [
    "fig = plt.figure(figsize=(7,7))\n",
    "plt.scatter(x,y)"
   ]
  },
  {
   "cell_type": "markdown",
   "metadata": {},
   "source": [
    "Vemos que los datos estan sobre todo el rango sin patrón alguno.\n",
    "\n",
    "Ahora guardemos la información en arreglos para operarlos:"
   ]
  },
  {
   "cell_type": "code",
   "execution_count": 358,
   "metadata": {},
   "outputs": [],
   "source": [
    "valores = np.array([x,y]).T"
   ]
  },
  {
   "cell_type": "markdown",
   "metadata": {},
   "source": [
    "Luego lo que queremos validar es cuantos de estas parejas x-y cayeron al interior del circulo unitario. Para esto podemos usar un **comprenhension list** y crear una mascara booleana para validar la condición:"
   ]
  },
  {
   "cell_type": "code",
   "execution_count": 359,
   "metadata": {
    "scrolled": true
   },
   "outputs": [],
   "source": [
    "mascara = [(valores[i,0]**2 +  valores[i,1]**2) < 1 for i in range(n_simul)]"
   ]
  },
  {
   "cell_type": "markdown",
   "metadata": {},
   "source": [
    "Así, podemos dividir los datos entre dos grupos: interior o exterior del circulo"
   ]
  },
  {
   "cell_type": "code",
   "execution_count": 360,
   "metadata": {},
   "outputs": [],
   "source": [
    "en_circulo = valores[np.array(mascara)]\n",
    "fuera_circulo = valores[~np.array(mascara)]"
   ]
  },
  {
   "cell_type": "markdown",
   "metadata": {},
   "source": [
    "Luego cómo quedó nuestra simulación diferenciando por la condición:"
   ]
  },
  {
   "cell_type": "code",
   "execution_count": 361,
   "metadata": {},
   "outputs": [
    {
     "data": {
      "text/plain": [
       "<matplotlib.collections.PathCollection at 0x122a94dd8>"
      ]
     },
     "execution_count": 361,
     "metadata": {},
     "output_type": "execute_result"
    },
    {
     "data": {
      "image/png": "[encoded data removed]",
      "text/plain": [
       "<Figure size 504x504 with 1 Axes>"
      ]
     },
     "metadata": {
      "needs_background": "light"
     },
     "output_type": "display_data"
    }
   ],
   "source": [
    "fig = plt.figure(figsize=(7,7))\n",
    "plt.scatter(en_circulo[:,0],en_circulo[:,1],alpha=0.5)\n",
    "plt.scatter(fuera_circulo[:,0],fuera_circulo[:,1],alpha=0.5)"
   ]
  },
  {
   "cell_type": "markdown",
   "metadata": {},
   "source": [
    "Entonces, ¿cuánto es $\\pi$?"
   ]
  },
  {
   "cell_type": "code",
   "execution_count": 362,
   "metadata": {},
   "outputs": [
    {
     "name": "stdout",
     "output_type": "stream",
     "text": [
      "Con 1000 iteraciones, Pi es igual a 3.096\n"
     ]
    }
   ],
   "source": [
    "print('Con', n_simul,'iteraciones, Pi es igual a',4*len(en_circulo)/(len(valores)))"
   ]
  },
  {
   "cell_type": "markdown",
   "metadata": {},
   "source": [
    "**¿Cómo podemos mejorar la estimación?**"
   ]
  }
 ],
 "metadata": {
  "kernelspec": {
   "display_name": "Python 3",
   "language": "python",
   "name": "python3"
  },
  "language_info": {
   "codemirror_mode": {
    "name": "ipython",
    "version": 3
   },
   "file_extension": ".py",
   "mimetype": "text/x-python",
   "name": "python",
   "nbconvert_exporter": "python",
   "pygments_lexer": "ipython3",
   "version": "3.6.7"
  }
 },
 "nbformat": 4,
 "nbformat_minor": 2
}
