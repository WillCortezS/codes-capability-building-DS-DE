{
 "cells": [
  {
   "cell_type": "markdown",
   "metadata": {},
   "source": [
    "# Módulo 2 - sesión 2.3 - Ejercicio: Introducción a python\n",
    "\n",
    "Por: [Ivan Torroledo](https://github.com/torroledo) \n",
    "\n",
    "### Este notebook hace parte del curso [**Capacitación de Analytics**](https://github.com/Torroledo/codes-capability-building-DS-DE)\n",
    "\n",
    "Dado los datos, estimar la regresión lineal de la ecuación de la oferta:\n",
    "\n",
    "$$ P = b_0 + b_1 * Q  $$\n",
    "\n",
    "Usando la estimación matricial:\n",
    "\n",
    "$$\\hat b = (X^TX)^{-1}X^TY$$\n",
    "\n",
    "Donde $P$ es precio y $Q$ es cantidades:\n",
    "$$Y = P$$\n",
    "\n",
    "$$X = [1 \\quad Q]$$\n",
    "\n",
    "**Nota**: Usar las operaciones matriciales de **Numpy**  "
   ]
  },
  {
   "cell_type": "code",
   "execution_count": 3,
   "metadata": {},
   "outputs": [
    {
     "data": {
      "image/png": "[encoded data removed]",
      "text/plain": [
       "<Figure size 432x288 with 1 Axes>"
      ]
     },
     "metadata": {
      "needs_background": "light"
     },
     "output_type": "display_data"
    }
   ],
   "source": [
    "%matplotlib inline\n",
    "\n",
    "import numpy as np\n",
    "import matplotlib.pyplot as plt\n",
    "# Import data\n",
    "precio =     [20,35,26,25,9,12,14,16,18,22,22,24,26,28,30]\n",
    "cantidades = [24,40,30,35,12,11,15,21,24,27,27,30,36,43,41]\n",
    "\n",
    "plt.plot(cantidades,precio, 'bo')\n",
    "plt.xlabel(\"Cantidades\");\n",
    "plt.ylabel(\"Precio\");"
   ]
  }
 ],
 "metadata": {
  "kernelspec": {
   "display_name": "Python 3",
   "language": "python",
   "name": "python3"
  },
  "language_info": {
   "codemirror_mode": {
    "name": "ipython",
    "version": 3
   },
   "file_extension": ".py",
   "mimetype": "text/x-python",
   "name": "python",
   "nbconvert_exporter": "python",
   "pygments_lexer": "ipython3",
   "version": "3.6.7"
  }
 },
 "nbformat": 4,
 "nbformat_minor": 2
}
