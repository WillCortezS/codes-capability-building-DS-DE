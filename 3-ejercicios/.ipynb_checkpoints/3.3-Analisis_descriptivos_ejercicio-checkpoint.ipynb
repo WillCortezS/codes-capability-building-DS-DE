{
 "cells": [
  {
   "cell_type": "markdown",
   "metadata": {},
   "source": [
    "# Módulo 3 - sesión 3.3 - Ejercicio: Análisis descriptivos \n",
    "\n",
    "Por: [Ivan Torroledo](https://github.com/torroledo) \n",
    "\n",
    "### Este notebook hace parte del curso [**Capacitación de Analytics**](https://github.com/Torroledo/codes-capability-building-DS-DE)\n",
    "\n",
    "Para este ejercicio analizaremos un data set de ventas de video juegos a nivel mundial. Para esto usaremos el data set libre disponible en: `/1-datasets/modulo-3/3.3-supermarket_sales.txt` en [Kaggle](https://www.kaggle.com/gregorut/videogamesales). El ejericicio consisten en:\n",
    "\n",
    "1. Explorar el volumen de ventas por año para las regiones JP, NA, EU, usando un `lineplot` y usando para cada serie una banda que muestre la variabilidad en cada año. (Tip: explorar `lineplot` el **API** de `seaborn`)   \n",
    "2. Hacer un grafico de `boxplot` para comparar las cuartiles de distribución de las ventas para los géneros `Sports`,`Racing`,`Role-Playing` en las regiones `NA` y `EU`\n"
   ]
  }
 ],
 "metadata": {
  "kernelspec": {
   "display_name": "Python 3",
   "language": "python",
   "name": "python3"
  },
  "language_info": {
   "codemirror_mode": {
    "name": "ipython",
    "version": 3
   },
   "file_extension": ".py",
   "mimetype": "text/x-python",
   "name": "python",
   "nbconvert_exporter": "python",
   "pygments_lexer": "ipython3",
   "version": "3.6.7"
  }
 },
 "nbformat": 4,
 "nbformat_minor": 2
}
