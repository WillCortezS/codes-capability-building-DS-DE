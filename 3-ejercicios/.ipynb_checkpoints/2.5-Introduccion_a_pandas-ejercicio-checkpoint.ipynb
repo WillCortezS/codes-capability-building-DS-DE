{
 "cells": [
  {
   "cell_type": "markdown",
   "metadata": {},
   "source": [
    "# Módulo 2 - sesión 2.4 - Ejercicio: Introducción a Pandas\n",
    "\n",
    "Por: [Ivan Torroledo](https://github.com/torroledo) \n",
    "\n",
    "### Este notebook hace parte del curso [**Capacitación de Analytics**](https://github.com/Torroledo/codes-capability-building-DS-DE)\n",
    "\n",
    "\n",
    "Haremos un análisis de las ventas de un supermercado usando data real. El archivo `/1-datasets/modulo-2/2.4-supermarket_sales.txt` tiene los datos de ventas para un periodo de tiempo del año 2019. El objetivo es:\n",
    "\n",
    "1. Leer el archivo en formato `txt` \n",
    "2. Hacer validación de los tipos de datos y \"castear\" las variables según sea el caso.\n",
    "\n",
    "    **Nota:** La data no está completamente limpia por lo que se debe limpiar y recuperar algunas de sus entradas sin perder información. \n",
    "    \n",
    "\n",
    "3. Usando las funciones de **Pandas** calcular y responder:\n",
    "    1. ¿Cuánto han sido la ventas totales por semana?\n",
    "    2. ¿Cuál ha sido el valor del ticket promedio en la segunda mitad de Febrero de 2019?\n",
    "    3. ¿Para cada mes, cuál ha sido la línea de producto con más ventas por género?"
   ]
  }
 ],
 "metadata": {
  "kernelspec": {
   "display_name": "Python 3",
   "language": "python",
   "name": "python3"
  },
  "language_info": {
   "codemirror_mode": {
    "name": "ipython",
    "version": 3
   },
   "file_extension": ".py",
   "mimetype": "text/x-python",
   "name": "python",
   "nbconvert_exporter": "python",
   "pygments_lexer": "ipython3",
   "version": "3.6.7"
  }
 },
 "nbformat": 4,
 "nbformat_minor": 2
}
